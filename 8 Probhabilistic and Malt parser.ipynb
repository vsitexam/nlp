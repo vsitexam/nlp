{
 "cells": [
  {
   "cell_type": "markdown",
   "id": "389bb2e2",
   "metadata": {},
   "source": [
    "# Probabilistic parser"
   ]
  },
  {
   "cell_type": "code",
   "execution_count": 1,
   "id": "6eb946cc",
   "metadata": {},
   "outputs": [],
   "source": [
    "import nltk\n",
    "from nltk import PCFG"
   ]
  },
  {
   "cell_type": "code",
   "execution_count": 2,
   "id": "14a80639",
   "metadata": {},
   "outputs": [],
   "source": [
    "grammar = PCFG.fromstring('''\n",
    "NP -> NNS [0.5] | JJ NNS [0.3] | NP CC NP [0.2]\n",
    "NNS -> \"men\" [0.1] | \"women\" [0.2] | \"children\" [0.3] | NNS CC NNS [0.4]\n",
    "JJ -> \"old\" [0.4] | \"young\" [0.6]\n",
    "CC -> \"and\" [0.9] | \"or\" [0.1]\n",
    "''')"
   ]
  },
  {
   "cell_type": "code",
   "execution_count": 3,
   "id": "a2627e09",
   "metadata": {},
   "outputs": [
    {
     "name": "stdout",
     "output_type": "stream",
     "text": [
      "Grammar with 11 productions (start state = NP)\n",
      "    NP -> NNS [0.5]\n",
      "    NP -> JJ NNS [0.3]\n",
      "    NP -> NP CC NP [0.2]\n",
      "    NNS -> 'men' [0.1]\n",
      "    NNS -> 'women' [0.2]\n",
      "    NNS -> 'children' [0.3]\n",
      "    NNS -> NNS CC NNS [0.4]\n",
      "    JJ -> 'old' [0.4]\n",
      "    JJ -> 'young' [0.6]\n",
      "    CC -> 'and' [0.9]\n",
      "    CC -> 'or' [0.1]\n"
     ]
    }
   ],
   "source": [
    "print(grammar)\n",
    "viterbi_parser = nltk.ViterbiParser(grammar)\n",
    "token = \"old men and women\".split()\n",
    "obj = viterbi_parser.parse(token)"
   ]
  },
  {
   "cell_type": "code",
   "execution_count": 4,
   "id": "b2109609",
   "metadata": {},
   "outputs": [
    {
     "name": "stdout",
     "output_type": "stream",
     "text": [
      "Output: \n",
      "(NP (JJ old) (NNS (NNS men) (CC and) (NNS women))) (p=0.000864)\n"
     ]
    }
   ],
   "source": [
    "print(\"Output: \")\n",
    "for x in obj:\n",
    "    print(x)\n"
   ]
  },
  {
   "cell_type": "code",
   "execution_count": 5,
   "id": "5486e44c",
   "metadata": {},
   "outputs": [],
   "source": [
    "x.draw()"
   ]
  },
  {
   "cell_type": "markdown",
   "id": "6d0f9037",
   "metadata": {},
   "source": [
    "# Malt Parser "
   ]
  },
  {
   "cell_type": "code",
   "execution_count": 7,
   "id": "6257c04c",
   "metadata": {},
   "outputs": [
    {
     "ename": "LookupError",
     "evalue": "\n\n===========================================================================\nNLTK was unable to find the maltparser-1.7.2 file!\nUse software specific configuration parameters or set the MALT_PARSER environment variable.\n===========================================================================",
     "output_type": "error",
     "traceback": [
      "\u001b[1;31m---------------------------------------------------------------------------\u001b[0m",
      "\u001b[1;31mLookupError\u001b[0m                               Traceback (most recent call last)",
      "Cell \u001b[1;32mIn [7], line 2\u001b[0m\n\u001b[0;32m      1\u001b[0m \u001b[38;5;28;01mfrom\u001b[39;00m \u001b[38;5;21;01mnltk\u001b[39;00m\u001b[38;5;21;01m.\u001b[39;00m\u001b[38;5;21;01mparse\u001b[39;00m \u001b[38;5;28;01mimport\u001b[39;00m malt\n\u001b[1;32m----> 2\u001b[0m mp \u001b[38;5;241m=\u001b[39m \u001b[43mmalt\u001b[49m\u001b[38;5;241;43m.\u001b[39;49m\u001b[43mMaltParser\u001b[49m\u001b[43m(\u001b[49m\u001b[38;5;124;43m'\u001b[39;49m\u001b[38;5;124;43mmaltparser-1.7.2\u001b[39;49m\u001b[38;5;124;43m'\u001b[39;49m\u001b[43m,\u001b[49m\u001b[38;5;124;43m'\u001b[39;49m\u001b[38;5;124;43mengmalt.linear-1.7.mco\u001b[39;49m\u001b[38;5;124;43m'\u001b[39;49m\u001b[43m)\u001b[49m\n\u001b[0;32m      3\u001b[0m t \u001b[38;5;241m=\u001b[39m mp\u001b[38;5;241m.\u001b[39mparse_one(\u001b[38;5;124m'\u001b[39m\u001b[38;5;124mI saw a bird from my window.\u001b[39m\u001b[38;5;124m'\u001b[39m\u001b[38;5;241m.\u001b[39msplit())\u001b[38;5;241m.\u001b[39mtree()\n\u001b[0;32m      4\u001b[0m \u001b[38;5;28mprint\u001b[39m(t)\n",
      "File \u001b[1;32m~\\AppData\\Local\\Programs\\Python\\Python310\\lib\\site-packages\\nltk\\parse\\malt.py:143\u001b[0m, in \u001b[0;36mMaltParser.__init__\u001b[1;34m(self, parser_dirname, model_filename, tagger, additional_java_args)\u001b[0m\n\u001b[0;32m    121\u001b[0m \u001b[38;5;124;03m\"\"\"\u001b[39;00m\n\u001b[0;32m    122\u001b[0m \u001b[38;5;124;03mAn interface for parsing with the Malt Parser.\u001b[39;00m\n\u001b[0;32m    123\u001b[0m \n\u001b[1;32m   (...)\u001b[0m\n\u001b[0;32m    139\u001b[0m \u001b[38;5;124;03m:type additional_java_args: list\u001b[39;00m\n\u001b[0;32m    140\u001b[0m \u001b[38;5;124;03m\"\"\"\u001b[39;00m\n\u001b[0;32m    142\u001b[0m \u001b[38;5;66;03m# Find all the necessary jar files for MaltParser.\u001b[39;00m\n\u001b[1;32m--> 143\u001b[0m \u001b[38;5;28mself\u001b[39m\u001b[38;5;241m.\u001b[39mmalt_jars \u001b[38;5;241m=\u001b[39m \u001b[43mfind_maltparser\u001b[49m\u001b[43m(\u001b[49m\u001b[43mparser_dirname\u001b[49m\u001b[43m)\u001b[49m\n\u001b[0;32m    144\u001b[0m \u001b[38;5;66;03m# Initialize additional java arguments.\u001b[39;00m\n\u001b[0;32m    145\u001b[0m \u001b[38;5;28mself\u001b[39m\u001b[38;5;241m.\u001b[39madditional_java_args \u001b[38;5;241m=\u001b[39m (\n\u001b[0;32m    146\u001b[0m     additional_java_args \u001b[38;5;28;01mif\u001b[39;00m additional_java_args \u001b[38;5;129;01mis\u001b[39;00m \u001b[38;5;129;01mnot\u001b[39;00m \u001b[38;5;28;01mNone\u001b[39;00m \u001b[38;5;28;01melse\u001b[39;00m []\n\u001b[0;32m    147\u001b[0m )\n",
      "File \u001b[1;32m~\\AppData\\Local\\Programs\\Python\\Python310\\lib\\site-packages\\nltk\\parse\\malt.py:68\u001b[0m, in \u001b[0;36mfind_maltparser\u001b[1;34m(parser_dirname)\u001b[0m\n\u001b[0;32m     66\u001b[0m     _malt_dir \u001b[38;5;241m=\u001b[39m parser_dirname\n\u001b[0;32m     67\u001b[0m \u001b[38;5;28;01melse\u001b[39;00m:  \u001b[38;5;66;03m# Try to find path to maltparser directory in environment variables.\u001b[39;00m\n\u001b[1;32m---> 68\u001b[0m     _malt_dir \u001b[38;5;241m=\u001b[39m \u001b[43mfind_dir\u001b[49m\u001b[43m(\u001b[49m\u001b[43mparser_dirname\u001b[49m\u001b[43m,\u001b[49m\u001b[43m \u001b[49m\u001b[43menv_vars\u001b[49m\u001b[38;5;241;43m=\u001b[39;49m\u001b[43m(\u001b[49m\u001b[38;5;124;43m\"\u001b[39;49m\u001b[38;5;124;43mMALT_PARSER\u001b[39;49m\u001b[38;5;124;43m\"\u001b[39;49m\u001b[43m,\u001b[49m\u001b[43m)\u001b[49m\u001b[43m)\u001b[49m\n\u001b[0;32m     69\u001b[0m \u001b[38;5;66;03m# Checks that that the found directory contains all the necessary .jar\u001b[39;00m\n\u001b[0;32m     70\u001b[0m malt_dependencies \u001b[38;5;241m=\u001b[39m [\u001b[38;5;124m\"\u001b[39m\u001b[38;5;124m\"\u001b[39m, \u001b[38;5;124m\"\u001b[39m\u001b[38;5;124m\"\u001b[39m, \u001b[38;5;124m\"\u001b[39m\u001b[38;5;124m\"\u001b[39m]\n",
      "File \u001b[1;32m~\\AppData\\Local\\Programs\\Python\\Python310\\lib\\site-packages\\nltk\\internals.py:634\u001b[0m, in \u001b[0;36mfind_dir\u001b[1;34m(filename, env_vars, searchpath, file_names, url, verbose)\u001b[0m\n\u001b[0;32m    631\u001b[0m \u001b[38;5;28;01mdef\u001b[39;00m \u001b[38;5;21mfind_dir\u001b[39m(\n\u001b[0;32m    632\u001b[0m     filename, env_vars\u001b[38;5;241m=\u001b[39m(), searchpath\u001b[38;5;241m=\u001b[39m(), file_names\u001b[38;5;241m=\u001b[39m\u001b[38;5;28;01mNone\u001b[39;00m, url\u001b[38;5;241m=\u001b[39m\u001b[38;5;28;01mNone\u001b[39;00m, verbose\u001b[38;5;241m=\u001b[39m\u001b[38;5;28;01mFalse\u001b[39;00m\n\u001b[0;32m    633\u001b[0m ):\n\u001b[1;32m--> 634\u001b[0m     \u001b[38;5;28;01mreturn\u001b[39;00m \u001b[38;5;28;43mnext\u001b[39;49m\u001b[43m(\u001b[49m\n\u001b[0;32m    635\u001b[0m \u001b[43m        \u001b[49m\u001b[43mfind_file_iter\u001b[49m\u001b[43m(\u001b[49m\n\u001b[0;32m    636\u001b[0m \u001b[43m            \u001b[49m\u001b[43mfilename\u001b[49m\u001b[43m,\u001b[49m\u001b[43m \u001b[49m\u001b[43menv_vars\u001b[49m\u001b[43m,\u001b[49m\u001b[43m \u001b[49m\u001b[43msearchpath\u001b[49m\u001b[43m,\u001b[49m\u001b[43m \u001b[49m\u001b[43mfile_names\u001b[49m\u001b[43m,\u001b[49m\u001b[43m \u001b[49m\u001b[43murl\u001b[49m\u001b[43m,\u001b[49m\u001b[43m \u001b[49m\u001b[43mverbose\u001b[49m\u001b[43m,\u001b[49m\u001b[43m \u001b[49m\u001b[43mfinding_dir\u001b[49m\u001b[38;5;241;43m=\u001b[39;49m\u001b[38;5;28;43;01mTrue\u001b[39;49;00m\n\u001b[0;32m    637\u001b[0m \u001b[43m        \u001b[49m\u001b[43m)\u001b[49m\n\u001b[0;32m    638\u001b[0m \u001b[43m    \u001b[49m\u001b[43m)\u001b[49m\n",
      "File \u001b[1;32m~\\AppData\\Local\\Programs\\Python\\Python310\\lib\\site-packages\\nltk\\internals.py:620\u001b[0m, in \u001b[0;36mfind_file_iter\u001b[1;34m(filename, env_vars, searchpath, file_names, url, verbose, finding_dir)\u001b[0m\n\u001b[0;32m    618\u001b[0m     msg \u001b[38;5;241m+\u001b[39m\u001b[38;5;241m=\u001b[39m \u001b[38;5;124mf\u001b[39m\u001b[38;5;124m\"\u001b[39m\u001b[38;5;130;01m\\n\u001b[39;00m\u001b[38;5;130;01m\\n\u001b[39;00m\u001b[38;5;124m  For more information on \u001b[39m\u001b[38;5;132;01m{\u001b[39;00mfilename\u001b[38;5;132;01m}\u001b[39;00m\u001b[38;5;124m, see:\u001b[39m\u001b[38;5;130;01m\\n\u001b[39;00m\u001b[38;5;124m    <\u001b[39m\u001b[38;5;132;01m{\u001b[39;00murl\u001b[38;5;132;01m}\u001b[39;00m\u001b[38;5;124m>\u001b[39m\u001b[38;5;124m\"\u001b[39m\n\u001b[0;32m    619\u001b[0m div \u001b[38;5;241m=\u001b[39m \u001b[38;5;124m\"\u001b[39m\u001b[38;5;124m=\u001b[39m\u001b[38;5;124m\"\u001b[39m \u001b[38;5;241m*\u001b[39m \u001b[38;5;241m75\u001b[39m\n\u001b[1;32m--> 620\u001b[0m \u001b[38;5;28;01mraise\u001b[39;00m \u001b[38;5;167;01mLookupError\u001b[39;00m(\u001b[38;5;124mf\u001b[39m\u001b[38;5;124m\"\u001b[39m\u001b[38;5;130;01m\\n\u001b[39;00m\u001b[38;5;130;01m\\n\u001b[39;00m\u001b[38;5;132;01m{\u001b[39;00mdiv\u001b[38;5;132;01m}\u001b[39;00m\u001b[38;5;130;01m\\n\u001b[39;00m\u001b[38;5;132;01m{\u001b[39;00mmsg\u001b[38;5;132;01m}\u001b[39;00m\u001b[38;5;130;01m\\n\u001b[39;00m\u001b[38;5;132;01m{\u001b[39;00mdiv\u001b[38;5;132;01m}\u001b[39;00m\u001b[38;5;124m\"\u001b[39m)\n",
      "\u001b[1;31mLookupError\u001b[0m: \n\n===========================================================================\nNLTK was unable to find the maltparser-1.7.2 file!\nUse software specific configuration parameters or set the MALT_PARSER environment variable.\n==========================================================================="
     ]
    }
   ],
   "source": [
    "from nltk.parse import malt\n",
    "mp = malt.MaltParser('maltparser-1.7.2','engmalt.linear-1.7.mco')\n",
    "t = mp.parse_one('I saw a bird from my window.'.split()).tree()\n",
    "print(t)\n",
    "t.draw()"
   ]
  },
  {
   "cell_type": "code",
   "execution_count": null,
   "id": "9ae7207b",
   "metadata": {},
   "outputs": [],
   "source": []
  }
 ],
 "metadata": {
  "kernelspec": {
   "display_name": "Python 3 (ipykernel)",
   "language": "python",
   "name": "python3"
  },
  "language_info": {
   "codemirror_mode": {
    "name": "ipython",
    "version": 3
   },
   "file_extension": ".py",
   "mimetype": "text/x-python",
   "name": "python",
   "nbconvert_exporter": "python",
   "pygments_lexer": "ipython3",
   "version": "3.10.7"
  }
 },
 "nbformat": 4,
 "nbformat_minor": 5
}
