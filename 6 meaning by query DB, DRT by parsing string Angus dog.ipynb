{
 "cells": [
  {
   "cell_type": "markdown",
   "id": "80d6cb3d",
   "metadata": {},
   "source": [
    "# 6A Meaning of a sentence by quesrying a DB"
   ]
  },
  {
   "cell_type": "code",
   "execution_count": 1,
   "id": "e80ebe16",
   "metadata": {},
   "outputs": [],
   "source": [
    "import nltk\n",
    "from nltk import load_parser"
   ]
  },
  {
   "cell_type": "code",
   "execution_count": 2,
   "id": "ff1230a7",
   "metadata": {
    "scrolled": true
   },
   "outputs": [
    {
     "name": "stderr",
     "output_type": "stream",
     "text": [
      "[nltk_data] Downloading package book_grammars to\n",
      "[nltk_data]     C:\\Users\\HP\\AppData\\Roaming\\nltk_data...\n"
     ]
    },
    {
     "name": "stdout",
     "output_type": "stream",
     "text": [
      "% start S\n",
      "S[SEM=(?np + WHERE + ?vp)] -> NP[SEM=?np] VP[SEM=?vp]\n",
      "VP[SEM=(?v + ?pp)] -> IV[SEM=?v] PP[SEM=?pp]\n",
      "VP[SEM=(?v + ?ap)] -> IV[SEM=?v] AP[SEM=?ap]\n",
      "NP[SEM=(?det + ?n)] -> Det[SEM=?det] N[SEM=?n]\n",
      "PP[SEM=(?p + ?np)] -> P[SEM=?p] NP[SEM=?np]\n",
      "AP[SEM=?pp] -> A[SEM=?a] PP[SEM=?pp]\n",
      "NP[SEM='Country=\"greece\"'] -> 'Greece'\n",
      "NP[SEM='Country=\"china\"'] -> 'China'\n",
      "Det[SEM='SELECT'] -> 'Which' | 'What'\n",
      "N[SEM='City FROM city_table'] -> 'cities'\n",
      "IV[SEM=''] -> 'are'\n",
      "A[SEM=''] -> 'located'\n",
      "P[SEM=''] -> 'in'\n"
     ]
    },
    {
     "name": "stderr",
     "output_type": "stream",
     "text": [
      "[nltk_data]   Unzipping grammars\\book_grammars.zip.\n"
     ]
    }
   ],
   "source": [
    "nltk.download('book_grammars')\n",
    "nltk.data.show_cfg('grammars/book_grammars/sql0.fcfg')"
   ]
  },
  {
   "cell_type": "code",
   "execution_count": 3,
   "id": "00c68d32",
   "metadata": {},
   "outputs": [
    {
     "name": "stdout",
     "output_type": "stream",
     "text": [
      "[Tree(S[SEM=(SELECT, City FROM city_table, WHERE, , , Country=\"china\")], [Tree(NP[SEM=(SELECT, City FROM city_table)], [Tree(Det[SEM='SELECT'], ['What']), Tree(N[SEM='City FROM city_table'], ['cities'])]), Tree(VP[SEM=(, , Country=\"china\")], [Tree(IV[SEM=''], ['are']), Tree(AP[SEM=(, Country=\"china\")], [Tree(A[SEM=''], ['located']), Tree(PP[SEM=(, Country=\"china\")], [Tree(P[SEM=''], ['in']), Tree(NP[SEM='Country=\"china\"'], ['China'])])])])])]\n"
     ]
    }
   ],
   "source": [
    "from nltk.parse import load_parser\n",
    "cp=load_parser('grammars/book_grammars/sql0.fcfg')\n",
    "query='What cities are located in China'\n",
    "trees=list(cp.parse(query.split()))\n",
    "print(trees)"
   ]
  },
  {
   "cell_type": "code",
   "execution_count": 13,
   "id": "8a0dc19a",
   "metadata": {},
   "outputs": [
    {
     "name": "stdout",
     "output_type": "stream",
     "text": [
      "(SELECT, City FROM city_table, WHERE, , , Country=\"china\")\n"
     ]
    }
   ],
   "source": [
    "answer=trees[0].label()['SEM']\n",
    "print(answer)"
   ]
  },
  {
   "cell_type": "code",
   "execution_count": 14,
   "id": "e99561f3",
   "metadata": {},
   "outputs": [
    {
     "name": "stdout",
     "output_type": "stream",
     "text": [
      "SELECT City FROM city_table WHERE   Country=\"china\"\n"
     ]
    }
   ],
   "source": [
    "query=' '.join(answer)\n",
    "print(query)"
   ]
  },
  {
   "cell_type": "code",
   "execution_count": 23,
   "id": "25fe612c",
   "metadata": {},
   "outputs": [
    {
     "name": "stderr",
     "output_type": "stream",
     "text": [
      "[nltk_data] Downloading package city_database to\n",
      "[nltk_data]     C:\\Users\\HP\\AppData\\Roaming\\nltk_data...\n",
      "[nltk_data]   Package city_database is already up-to-date!\n"
     ]
    }
   ],
   "source": [
    "#run the query\n",
    "from nltk.sem import chat80\n",
    "nltk.download('city_database')\n",
    "\n",
    "rows=chat80.sql_query('corpora/city_database/city.db',query)"
   ]
  },
  {
   "cell_type": "code",
   "execution_count": 24,
   "id": "5135eea1",
   "metadata": {},
   "outputs": [
    {
     "name": "stdout",
     "output_type": "stream",
     "text": [
      "('canton',)\n",
      "('chungking',)\n",
      "('dairen',)\n",
      "('harbin',)\n",
      "('kowloon',)\n",
      "('mukden',)\n",
      "('peking',)\n",
      "('shanghai',)\n",
      "('sian',)\n",
      "('tientsin',)\n"
     ]
    }
   ],
   "source": [
    "for cities in rows:\n",
    "    print (cities)"
   ]
  },
  {
   "cell_type": "markdown",
   "id": "d7f313c4",
   "metadata": {},
   "source": [
    "# 6B Discourse Representation Theory"
   ]
  },
  {
   "cell_type": "code",
   "execution_count": 1,
   "id": "bfeafb61",
   "metadata": {},
   "outputs": [],
   "source": [
    "import nltk\n",
    "read_the_expr=nltk.sem.DrtExpression.fromstring"
   ]
  },
  {
   "cell_type": "code",
   "execution_count": 2,
   "id": "281ec453",
   "metadata": {
    "scrolled": true
   },
   "outputs": [
    {
     "name": "stdout",
     "output_type": "stream",
     "text": [
      "([x,y],[Angus(x), dog(y), own(x,y)])\n"
     ]
    }
   ],
   "source": [
    "drs1=read_the_expr('([x,y],[Angus(x),dog(y),own(x,y)])')\n",
    "print(drs1)\n",
    "drs1.draw()"
   ]
  },
  {
   "cell_type": "code",
   "execution_count": 3,
   "id": "1f55caa5",
   "metadata": {},
   "outputs": [
    {
     "name": "stdout",
     "output_type": "stream",
     "text": [
      "exists x y.(Angus(x) & dog(y) & own(x,y))\n"
     ]
    }
   ],
   "source": [
    "print(drs1.fol())"
   ]
  },
  {
   "cell_type": "code",
   "execution_count": 4,
   "id": "d7f6b386",
   "metadata": {},
   "outputs": [],
   "source": [
    "from nltk import load_parser\n",
    "parser = load_parser('grammars/book_grammars/drt.fcfg', logic_parser=nltk.sem.drt.DrtParser())"
   ]
  },
  {
   "cell_type": "code",
   "execution_count": 5,
   "id": "4b8ef002",
   "metadata": {},
   "outputs": [
    {
     "name": "stdout",
     "output_type": "stream",
     "text": [
      "([x,z2],[Angus(x), dog(z2), own(x,z2)])\n"
     ]
    }
   ],
   "source": [
    "trees = list(parser.parse('Angus owns a dog'.split()))\n",
    "print(trees[0].label()['SEM'].simplify())\n",
    "trees[0].draw()"
   ]
  },
  {
   "cell_type": "code",
   "execution_count": null,
   "id": "d10d9494",
   "metadata": {},
   "outputs": [],
   "source": []
  }
 ],
 "metadata": {
  "kernelspec": {
   "display_name": "Python 3 (ipykernel)",
   "language": "python",
   "name": "python3"
  },
  "language_info": {
   "codemirror_mode": {
    "name": "ipython",
    "version": 3
   },
   "file_extension": ".py",
   "mimetype": "text/x-python",
   "name": "python",
   "nbconvert_exporter": "python",
   "pygments_lexer": "ipython3",
   "version": "3.10.7"
  }
 },
 "nbformat": 4,
 "nbformat_minor": 5
}
