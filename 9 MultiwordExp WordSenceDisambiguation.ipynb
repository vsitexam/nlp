{
 "cells": [
  {
   "cell_type": "markdown",
   "id": "a954e698",
   "metadata": {},
   "source": [
    "# 9A Multiword expressions in NLP "
   ]
  },
  {
   "cell_type": "code",
   "execution_count": 1,
   "id": "9b045638",
   "metadata": {},
   "outputs": [
    {
     "name": "stderr",
     "output_type": "stream",
     "text": [
      "[nltk_data] Downloading package punkt to\n",
      "[nltk_data]     C:\\Users\\HP\\AppData\\Roaming\\nltk_data...\n",
      "[nltk_data]   Package punkt is already up-to-date!\n"
     ]
    },
    {
     "data": {
      "text/plain": [
       "True"
      ]
     },
     "execution_count": 1,
     "metadata": {},
     "output_type": "execute_result"
    }
   ],
   "source": [
    "import nltk\n",
    "nltk.download('punkt')"
   ]
  },
  {
   "cell_type": "code",
   "execution_count": 3,
   "id": "9fc978b5",
   "metadata": {},
   "outputs": [],
   "source": [
    "from nltk.tokenize import MWETokenizer\n",
    "from nltk import sent_tokenize, word_tokenize"
   ]
  },
  {
   "cell_type": "code",
   "execution_count": 5,
   "id": "ccfd7d4a",
   "metadata": {},
   "outputs": [
    {
     "name": "stdout",
     "output_type": "stream",
     "text": [
      "['Good', 'cake', 'cost', 'Rs.1500\\\\kg', 'in', 'New_Delhi', '.']\n",
      "['Please', 'buy_me', 'one', 'of', 'them', '.']\n",
      "['Thanks', '.']\n"
     ]
    }
   ],
   "source": [
    "s = '''Good cake cost Rs.1500\\kg in New Delhi.  Please buy me one of them.\\n\\nThanks.'''\n",
    "\n",
    "mwe = MWETokenizer([('New', 'Delhi'), ('New', 'York'), ('Hong', 'Kong')], separator='_')\n",
    "for sent in sent_tokenize(s):\n",
    "    print(mwe.tokenize(word_tokenize(sent)))"
   ]
  },
  {
   "cell_type": "markdown",
   "id": "0c04ba57",
   "metadata": {},
   "source": [
    "# 9B Word Sense Disambiguation for Keyword JAM"
   ]
  },
  {
   "cell_type": "code",
   "execution_count": 8,
   "id": "b131fc2d",
   "metadata": {},
   "outputs": [],
   "source": [
    "# Aim: Word Sense Disambiguation for the keyword ‘jam’ in the \n",
    "# sentences - 'This device is used to jam the signal' and 'I am \n",
    "# stuck in a traffic jam'. Also, for the keyword ‘book’ in the \n",
    "# sentences - 'I love reading books on coding.' and 'The table was \n",
    "# already booked by someone else.' "
   ]
  },
  {
   "cell_type": "code",
   "execution_count": 9,
   "id": "41dcea99",
   "metadata": {},
   "outputs": [],
   "source": [
    "from nltk.wsd import lesk\n",
    "from nltk.tokenize import word_tokenize"
   ]
  },
  {
   "cell_type": "code",
   "execution_count": 10,
   "id": "03601d3a",
   "metadata": {},
   "outputs": [
    {
     "name": "stderr",
     "output_type": "stream",
     "text": [
      "[nltk_data] Downloading package punkt to\n",
      "[nltk_data]     C:\\Users\\HP\\AppData\\Roaming\\nltk_data...\n",
      "[nltk_data]   Package punkt is already up-to-date!\n",
      "[nltk_data] Downloading package wordnet to\n",
      "[nltk_data]     C:\\Users\\HP\\AppData\\Roaming\\nltk_data...\n",
      "[nltk_data]   Package wordnet is already up-to-date!\n"
     ]
    },
    {
     "data": {
      "text/plain": [
       "True"
      ]
     },
     "execution_count": 10,
     "metadata": {},
     "output_type": "execute_result"
    }
   ],
   "source": [
    "import nltk\n",
    "nltk.download('punkt')\n",
    "nltk.download('wordnet')"
   ]
  },
  {
   "cell_type": "code",
   "execution_count": 11,
   "id": "63d27789",
   "metadata": {},
   "outputs": [
    {
     "name": "stdout",
     "output_type": "stream",
     "text": [
      "Synset('jamming.n.01') deliberate radiation or reflection of electromagnetic energy for the purpose of disrupting enemy use of electronic devices or systems\n",
      "Synset('jam.v.05') get stuck and immobilized\n"
     ]
    }
   ],
   "source": [
    "a1= lesk(word_tokenize('This device is used to jam the signal'),'jam')\n",
    "print(a1,a1.definition())\n",
    "a2 = lesk(word_tokenize('I am stuck in a traffic jam'),'jam')\n",
    "print(a2,a2.definition())"
   ]
  },
  {
   "cell_type": "code",
   "execution_count": 12,
   "id": "b72dce03",
   "metadata": {},
   "outputs": [
    {
     "name": "stdout",
     "output_type": "stream",
     "text": [
      "Synset('book.n.11') a number of sheets (ticket or stamps etc.) bound together on one edge\n",
      "Synset('reserve.v.04') arrange for and reserve (something for someone else) in advance\n"
     ]
    }
   ],
   "source": [
    "b1=lesk(word_tokenize('I love reading books on coding.'),'book')\n",
    "print(b1,b1.definition())\n",
    "b2 = lesk(word_tokenize('The table was already booked by someone else.'),'book')\n",
    "print(b2,b2.definition())"
   ]
  },
  {
   "cell_type": "code",
   "execution_count": null,
   "id": "9b95f4ca",
   "metadata": {},
   "outputs": [],
   "source": []
  }
 ],
 "metadata": {
  "kernelspec": {
   "display_name": "Python 3 (ipykernel)",
   "language": "python",
   "name": "python3"
  },
  "language_info": {
   "codemirror_mode": {
    "name": "ipython",
    "version": 3
   },
   "file_extension": ".py",
   "mimetype": "text/x-python",
   "name": "python",
   "nbconvert_exporter": "python",
   "pygments_lexer": "ipython3",
   "version": "3.10.7"
  }
 },
 "nbformat": 4,
 "nbformat_minor": 5
}
