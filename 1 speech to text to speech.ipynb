{
 "cells": [
  {
   "cell_type": "markdown",
   "id": "25c72cc2",
   "metadata": {},
   "source": [
    "# 1B Convert given text to speech"
   ]
  },
  {
   "cell_type": "code",
   "execution_count": null,
   "id": "6a3037ea",
   "metadata": {},
   "outputs": [],
   "source": [
    "!pip install playsound\n",
    "!pip install gTTS"
   ]
  },
  {
   "cell_type": "code",
   "execution_count": 1,
   "id": "31855471",
   "metadata": {},
   "outputs": [],
   "source": [
    "from gtts import gTTS"
   ]
  },
  {
   "cell_type": "code",
   "execution_count": 2,
   "id": "994fd87a",
   "metadata": {},
   "outputs": [],
   "source": [
    "from playsound import playsound"
   ]
  },
  {
   "cell_type": "code",
   "execution_count": 23,
   "id": "e6f38b16",
   "metadata": {},
   "outputs": [],
   "source": [
    "text_val = 'India won the football match yesterday'\n",
    "language = 'en'"
   ]
  },
  {
   "cell_type": "code",
   "execution_count": 24,
   "id": "9dddf292",
   "metadata": {},
   "outputs": [],
   "source": [
    "obj = gTTS(text=text_val, lang=language, slow=False)"
   ]
  },
  {
   "cell_type": "code",
   "execution_count": 25,
   "id": "1d4a2c85",
   "metadata": {},
   "outputs": [],
   "source": [
    "obj.save(\"exam2.mp3\")"
   ]
  },
  {
   "cell_type": "code",
   "execution_count": 8,
   "id": "b5092840",
   "metadata": {},
   "outputs": [],
   "source": [
    "playsound(\"exam.mp3\")"
   ]
  },
  {
   "cell_type": "markdown",
   "id": "9e9d536c",
   "metadata": {},
   "source": [
    "# 1C Convert the speech of .wav to text"
   ]
  },
  {
   "cell_type": "code",
   "execution_count": 9,
   "id": "26c33cd2",
   "metadata": {},
   "outputs": [
    {
     "name": "stdout",
     "output_type": "stream",
     "text": [
      "Collecting SpeechRecognition\n",
      "  Downloading SpeechRecognition-3.10.0-py2.py3-none-any.whl (32.8 MB)\n",
      "     ---------------------------------------- 32.8/32.8 MB 6.0 MB/s eta 0:00:00\n",
      "Collecting pydub\n",
      "  Downloading pydub-0.25.1-py2.py3-none-any.whl (32 kB)\n",
      "Requirement already satisfied: requests>=2.26.0 in c:\\users\\hp\\appdata\\local\\programs\\python\\python310\\lib\\site-packages (from SpeechRecognition) (2.31.0)\n",
      "Requirement already satisfied: charset-normalizer<4,>=2 in c:\\users\\hp\\appdata\\local\\programs\\python\\python310\\lib\\site-packages (from requests>=2.26.0->SpeechRecognition) (3.1.0)\n",
      "Requirement already satisfied: idna<4,>=2.5 in c:\\users\\hp\\appdata\\local\\programs\\python\\python310\\lib\\site-packages (from requests>=2.26.0->SpeechRecognition) (3.4)\n",
      "Requirement already satisfied: urllib3<3,>=1.21.1 in c:\\users\\hp\\appdata\\local\\programs\\python\\python310\\lib\\site-packages (from requests>=2.26.0->SpeechRecognition) (2.0.3)\n",
      "Requirement already satisfied: certifi>=2017.4.17 in c:\\users\\hp\\appdata\\local\\programs\\python\\python310\\lib\\site-packages (from requests>=2.26.0->SpeechRecognition) (2023.5.7)\n",
      "Installing collected packages: pydub, SpeechRecognition\n",
      "Successfully installed SpeechRecognition-3.10.0 pydub-0.25.1\n"
     ]
    }
   ],
   "source": [
    "!pip install SpeechRecognition pydub"
   ]
  },
  {
   "cell_type": "code",
   "execution_count": 28,
   "id": "23d842c8",
   "metadata": {},
   "outputs": [],
   "source": [
    "import speech_recognition as sr"
   ]
  },
  {
   "cell_type": "code",
   "execution_count": 31,
   "id": "19e9cf26",
   "metadata": {},
   "outputs": [
    {
     "name": "stdout",
     "output_type": "stream",
     "text": [
      "India won the football match yesterday\n"
     ]
    }
   ],
   "source": [
    "def convert_speech_to_text(file_path):\n",
    "    recognizer = sr.Recognizer()\n",
    "    \n",
    "    with sr.AudioFile(file_path) as source:\n",
    "        audio_data = recognizer.record(source)\n",
    "        text = recognizer.recognize_google(audio_data)\n",
    "        return text\n",
    "\n",
    "file_path = \"D:\\\\VSIT SEM 4 Practicals\\\\NLP\\\\India won the football match yesterday.wav\"\n",
    "\n",
    "text = convert_speech_to_text(file_path)\n",
    "\n",
    "print(text)"
   ]
  },
  {
   "cell_type": "code",
   "execution_count": null,
   "id": "e94e839e",
   "metadata": {},
   "outputs": [],
   "source": []
  }
 ],
 "metadata": {
  "kernelspec": {
   "display_name": "Python 3 (ipykernel)",
   "language": "python",
   "name": "python3"
  },
  "language_info": {
   "codemirror_mode": {
    "name": "ipython",
    "version": 3
   },
   "file_extension": ".py",
   "mimetype": "text/x-python",
   "name": "python",
   "nbconvert_exporter": "python",
   "pygments_lexer": "ipython3",
   "version": "3.10.7"
  }
 },
 "nbformat": 4,
 "nbformat_minor": 5
}
