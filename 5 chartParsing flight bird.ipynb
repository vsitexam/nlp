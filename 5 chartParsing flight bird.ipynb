{
 "cells": [
  {
   "cell_type": "markdown",
   "id": "7477cf85",
   "metadata": {},
   "source": [
    "# 5A Chart Parsing using string BookThatFlight"
   ]
  },
  {
   "cell_type": "code",
   "execution_count": 1,
   "id": "1502d0e2",
   "metadata": {},
   "outputs": [],
   "source": [
    "import nltk\n",
    "from nltk import tokenize"
   ]
  },
  {
   "cell_type": "code",
   "execution_count": 20,
   "id": "4c88f237",
   "metadata": {},
   "outputs": [],
   "source": [
    "grammer1 = nltk.CFG.fromstring(\"\"\"\n",
    "S -> VP\n",
    "        VP -> VP NP\n",
    "        NP -> Det NP\n",
    "        Det -> 'that'\n",
    "        NP -> singular Noun\n",
    "        NP -> 'flight'\n",
    "        VP -> 'Book'\n",
    "\"\"\")"
   ]
  },
  {
   "cell_type": "code",
   "execution_count": 21,
   "id": "10b1b686",
   "metadata": {},
   "outputs": [],
   "source": [
    "sentence = \"Book that flight\""
   ]
  },
  {
   "cell_type": "code",
   "execution_count": 22,
   "id": "2aaa8f3f",
   "metadata": {},
   "outputs": [
    {
     "name": "stderr",
     "output_type": "stream",
     "text": [
      "[nltk_data] Downloading package punkt to\n",
      "[nltk_data]     C:\\Users\\HP\\AppData\\Roaming\\nltk_data...\n",
      "[nltk_data]   Package punkt is already up-to-date!\n"
     ]
    },
    {
     "data": {
      "text/plain": [
       "True"
      ]
     },
     "execution_count": 22,
     "metadata": {},
     "output_type": "execute_result"
    }
   ],
   "source": [
    "import nltk\n",
    "nltk.download('punkt')"
   ]
  },
  {
   "cell_type": "code",
   "execution_count": 23,
   "id": "13c957b1",
   "metadata": {},
   "outputs": [],
   "source": [
    "for index in range(len(sentence)):\n",
    "    all_tokens = tokenize.word_tokenize(sentence)"
   ]
  },
  {
   "cell_type": "code",
   "execution_count": 24,
   "id": "b8975599",
   "metadata": {},
   "outputs": [
    {
     "name": "stdout",
     "output_type": "stream",
     "text": [
      "['Book', 'that', 'flight']\n",
      "(S (VP (VP Book) (NP (Det that) (NP flight))))\n"
     ]
    }
   ],
   "source": [
    "print(all_tokens)\n",
    "parser = nltk.ChartParser(grammer1)\n",
    "for tree in parser.parse(all_tokens):\n",
    "    print(tree)\n",
    "tree.draw()"
   ]
  },
  {
   "cell_type": "markdown",
   "id": "715705fc",
   "metadata": {},
   "source": [
    "# 5B Chart Parsing using string I saw a bird in my balcony"
   ]
  },
  {
   "cell_type": "code",
   "execution_count": 7,
   "id": "7f41e6cb",
   "metadata": {},
   "outputs": [
    {
     "name": "stderr",
     "output_type": "stream",
     "text": [
      "[nltk_data] Downloading package punkt to\n",
      "[nltk_data]     C:\\Users\\HP\\AppData\\Roaming\\nltk_data...\n",
      "[nltk_data]   Package punkt is already up-to-date!\n"
     ]
    },
    {
     "data": {
      "text/plain": [
       "True"
      ]
     },
     "execution_count": 7,
     "metadata": {},
     "output_type": "execute_result"
    }
   ],
   "source": [
    "import nltk\n",
    "from nltk import tokenize\n",
    "nltk.download('punkt')"
   ]
  },
  {
   "cell_type": "code",
   "execution_count": 29,
   "id": "483f272a",
   "metadata": {},
   "outputs": [],
   "source": [
    "grammer1 = nltk.CFG.fromstring(\"\"\"\n",
    "s -> NP VP\n",
    "NP -> 'I'\n",
    "VP -> VP PP\n",
    "VP -> V NP\n",
    "V -> 'saw'\n",
    "NP -> Det N\n",
    "Det -> 'a'\n",
    "N -> singular Noun\n",
    "N -> 'bird'\n",
    "PP -> P NP\n",
    "P -> 'in'\n",
    "NP -> Det N\n",
    "Det -> 'my'\n",
    "N -> 'balcony'\n",
    "\"\"\")"
   ]
  },
  {
   "cell_type": "code",
   "execution_count": 30,
   "id": "11092fb4",
   "metadata": {},
   "outputs": [],
   "source": [
    "sentence = \"I saw a bird in my balcony\""
   ]
  },
  {
   "cell_type": "code",
   "execution_count": 31,
   "id": "ebebd79f",
   "metadata": {},
   "outputs": [
    {
     "name": "stdout",
     "output_type": "stream",
     "text": [
      "['I', 'saw', 'a', 'bird', 'in', 'my', 'balcony']\n"
     ]
    }
   ],
   "source": [
    "for index in range(len(sentence)):\n",
    "    all_tokens = tokenize.word_tokenize(sentence)\n",
    "print(all_tokens)"
   ]
  },
  {
   "cell_type": "code",
   "execution_count": 32,
   "id": "5a333ec6",
   "metadata": {},
   "outputs": [
    {
     "name": "stdout",
     "output_type": "stream",
     "text": [
      "(s\n",
      "  (NP I)\n",
      "  (VP\n",
      "    (VP (V saw) (NP (Det a) (N bird)))\n",
      "    (PP (P in) (NP (Det my) (N balcony)))))\n"
     ]
    }
   ],
   "source": [
    "parser = nltk.ChartParser(grammer1)\n",
    "for tree in parser.parse(all_tokens):\n",
    "    print(tree)\n",
    "    \n",
    "tree.draw()"
   ]
  },
  {
   "cell_type": "code",
   "execution_count": null,
   "id": "ceb8cbcb",
   "metadata": {},
   "outputs": [],
   "source": []
  }
 ],
 "metadata": {
  "kernelspec": {
   "display_name": "Python 3 (ipykernel)",
   "language": "python",
   "name": "python3"
  },
  "language_info": {
   "codemirror_mode": {
    "name": "ipython",
    "version": 3
   },
   "file_extension": ".py",
   "mimetype": "text/x-python",
   "name": "python",
   "nbconvert_exporter": "python",
   "pygments_lexer": "ipython3",
   "version": "3.10.7"
  }
 },
 "nbformat": 4,
 "nbformat_minor": 5
}
